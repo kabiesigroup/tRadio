{
  "nbformat": 4,
  "nbformat_minor": 0,
  "metadata": {
    "colab": {
      "name": "radioonline.vn.ipynb",
      "version": "0.3.2",
      "provenance": [],
      "collapsed_sections": [],
      "toc_visible": true,
      "include_colab_link": true
    },
    "kernelspec": {
      "name": "python3",
      "display_name": "Python 3"
    }
  },
  "cells": [
    {
      "cell_type": "markdown",
      "metadata": {
        "id": "view-in-github",
        "colab_type": "text"
      },
      "source": [
        "<a href=\"https://colab.research.google.com/github/soiqualang/tRadio/blob/master/radioonline_vn.ipynb\" target=\"_parent\"><img src=\"https://colab.research.google.com/assets/colab-badge.svg\" alt=\"Open In Colab\"/></a>"
      ]
    },
    {
      "cell_type": "markdown",
      "metadata": {
        "id": "EOj49geQ2nOD",
        "colab_type": "text"
      },
      "source": [
        "# Tham khảo\n",
        "\n",
        "https://viblo.asia/p/web-crawling-voi-thu-vien-beautifulsoup-1VgZvNGOZAw\n",
        "\n",
        "https://www.crummy.com/software/BeautifulSoup/bs4/doc/#a-function"
      ]
    },
    {
      "cell_type": "code",
      "metadata": {
        "id": "mKCM_1ZRyHPt",
        "colab_type": "code",
        "colab": {}
      },
      "source": [
        "from bs4 import BeautifulSoup\n",
        "import urllib.request"
      ],
      "execution_count": 0,
      "outputs": []
    },
    {
      "cell_type": "code",
      "metadata": {
        "id": "tcBRqP8o0jCC",
        "colab_type": "code",
        "colab": {}
      },
      "source": [
        "url =  'https://radioonline.vn'\n",
        "page = urllib.request.urlopen(url)\n",
        "soup = BeautifulSoup(page, 'html.parser')"
      ],
      "execution_count": 0,
      "outputs": []
    },
    {
      "cell_type": "code",
      "metadata": {
        "id": "NxQCCzGT3OhL",
        "colab_type": "code",
        "colab": {}
      },
      "source": [
        "ul1=soup.find('ul',id='radios')"
      ],
      "execution_count": 0,
      "outputs": []
    },
    {
      "cell_type": "code",
      "metadata": {
        "id": "_uVzfG7Ic0Ky",
        "colab_type": "code",
        "colab": {
          "base_uri": "https://localhost:8080/",
          "height": 853
        },
        "outputId": "e63a4e87-4878-4f45-e754-70130649a4c6"
      },
      "source": [
        "#print(ul1)\n",
        "for ul in ul1:\n",
        "    print(ul)"
      ],
      "execution_count": 7,
      "outputs": [
        {
          "output_type": "stream",
          "text": [
            "<li class=\"item-1\"><span><a href=\"https://radioonline.vn/#vov1\" title=\"VOV 1 675 AM\"><img alt=\"VOV 1 675 AM\" class=\"cover\" height=\"66\" src=\"https://cdn.webrad.io/images/logos/radioonline-vn/vov1.png\" width=\"96\"/></a></span></li>\n",
            "<li class=\"item-2\"><span><a href=\"https://radioonline.vn/#vov2\" title=\"VOV 2 102.7 FM\"><img alt=\"VOV 2 102.7 FM\" class=\"cover\" height=\"66\" src=\"https://cdn.webrad.io/images/logos/radioonline-vn/vov2.png\" width=\"96\"/></a></span></li>\n",
            "<li class=\"item-3\"><span><a href=\"https://radioonline.vn/#vov3\" title=\"VOV 3  FM 104.5\"><img alt=\"VOV 3  FM 104.5\" class=\"cover\" height=\"66\" src=\"https://cdn.webrad.io/images/logos/radioonline-vn/vov3.png\" width=\"96\"/></a></span></li>\n",
            "<li class=\"item-4\"><span><a href=\"https://radioonline.vn/#vov-4\" title=\"VOV 4\"><img alt=\"VOV 4\" class=\"cover\" height=\"66\" src=\"https://cdn.webrad.io/images/logos/radioonline-vn/vov-4.png\" width=\"96\"/></a></span></li>\n",
            "<li class=\"item-5\"><span><a href=\"https://radioonline.vn/#vov5\" title=\"VOV 5 105.5 FM\"><img alt=\"VOV 5 105.5 FM\" class=\"cover\" height=\"66\" src=\"https://cdn.webrad.io/images/logos/radioonline-vn/vov5.png\" width=\"96\"/></a></span></li>\n",
            "<li class=\"item-6\"><span><a href=\"https://radioonline.vn/#vov-gt\" title=\"VOV GT TPHCM\"><img alt=\"VOV GT TPHCM\" class=\"cover\" height=\"66\" src=\"https://cdn.webrad.io/images/logos/radioonline-vn/vov-gt.png\" width=\"96\"/></a></span></li>\n",
            "<li class=\"item-7\"><span><a href=\"https://radioonline.vn/#vov-giao-thong\" title=\"VOV GT Hà Nội\"><img alt=\"VOV GT Hà Nội\" class=\"cover\" height=\"66\" src=\"https://cdn.webrad.io/images/logos/radioonline-vn/vov-giao-thong.png\" width=\"96\"/></a></span></li>\n",
            "<li class=\"item-8\"><span><a href=\"https://radioonline.vn/#voh-fm\" title=\"VOH 99.9 FM\"><img alt=\"VOH 99.9 FM\" class=\"cover\" height=\"66\" src=\"https://cdn.webrad.io/images/logos/radioonline-vn/voh-fm.png\" width=\"96\"/></a></span></li>\n",
            "<li class=\"item-9\"><span><a href=\"https://radioonline.vn/#voh-fm-95-6\" title=\"VOH 95.6 FM\"><img alt=\"VOH 95.6 FM\" class=\"cover\" height=\"66\" src=\"https://cdn.webrad.io/images/logos/radioonline-vn/voh-fm-95-6.png\" width=\"96\"/></a></span></li>\n",
            "<li class=\"item-10\"><span><a href=\"https://radioonline.vn/#voh\" title=\"VOH 610 AM\"><img alt=\"VOH 610 AM\" class=\"cover\" height=\"66\" src=\"https://cdn.webrad.io/images/logos/radioonline-vn/voh.png\" width=\"96\"/></a></span></li>\n",
            "<li class=\"item-11\"><span><a href=\"https://radioonline.vn/#vietnam-hai-ngoai\" title=\"Radio Viet Nam Hai Ngoai\"><img alt=\"Radio Viet Nam Hai Ngoai\" class=\"cover\" height=\"66\" src=\"https://cdn.webrad.io/images/logos/radioonline-vn/vietnam-hai-ngoai.png\" width=\"96\"/></a></span></li>\n",
            "<li class=\"item-12\"><span><a href=\"https://radioonline.vn/#nhk-vietnam\" title=\"NHK Vietnam\"><img alt=\"NHK Vietnam\" class=\"cover\" height=\"66\" src=\"https://cdn.webrad.io/images/logos/radioonline-vn/nhk-vietnam.png\" width=\"96\"/></a></span></li>\n",
            "<li class=\"item-13\"><span><a href=\"https://radioonline.vn/#tieng-nuroc\" title=\"Radio Tieng Nuroc Toi\"><img alt=\"Radio Tieng Nuroc Toi\" class=\"cover\" height=\"66\" src=\"https://cdn.webrad.io/images/logos/radioonline-vn/tieng-nuroc.png\" width=\"96\"/></a></span></li>\n",
            "<li class=\"item-14\"><span><a href=\"https://radioonline.vn/#ba-ria-vung-tau\" title=\"Radio Bà Rịa-Vũng Tàu\"><img alt=\"Radio Bà Rịa-Vũng Tàu\" class=\"cover\" height=\"66\" src=\"https://cdn.webrad.io/images/logos/radioonline-vn/ba-ria-vung-tau.png\" width=\"96\"/></a></span></li>\n",
            "<li class=\"item-15\"><span><a href=\"https://radioonline.vn/#binh-phuoc\" title=\"Radio Bình Phước\"><img alt=\"Radio Bình Phước\" class=\"cover\" height=\"66\" src=\"https://cdn.webrad.io/images/logos/radioonline-vn/binh-phuoc.png\" width=\"96\"/></a></span></li>\n",
            "<li class=\"item-16\"><span><a href=\"https://radioonline.vn/#binh-thuan\" title=\"Radio Bình Thuận\"><img alt=\"Radio Bình Thuận\" class=\"cover\" height=\"66\" src=\"https://cdn.webrad.io/images/logos/radioonline-vn/binh-thuan.png\" width=\"96\"/></a></span></li>\n",
            "<li class=\"item-17\"><span><a href=\"https://radioonline.vn/#ca-mau\" title=\"Radio Cà Mau\"><img alt=\"Radio Cà Mau\" class=\"cover\" height=\"66\" src=\"https://cdn.webrad.io/images/logos/radioonline-vn/ca-mau.png\" width=\"96\"/></a></span></li>\n",
            "<li class=\"item-18\"><span><a href=\"https://radioonline.vn/#can-tho\" title=\"Radio Cần Thơ 97.3 FM\"><img alt=\"Radio Cần Thơ 97.3 FM\" class=\"cover\" height=\"66\" src=\"https://cdn.webrad.io/images/logos/radioonline-vn/can-tho.png\" width=\"96\"/></a></span></li>\n",
            "<li class=\"item-19\"><span><a href=\"https://radioonline.vn/#da-nang\" title=\"Radio Đà Nẵng 96.3 FM\"><img alt=\"Radio Đà Nẵng 96.3 FM\" class=\"cover\" height=\"66\" src=\"https://cdn.webrad.io/images/logos/radioonline-vn/da-nang.png\" width=\"96\"/></a></span></li>\n",
            "<li class=\"item-20\"><span><a href=\"https://radioonline.vn/#ha-noi\" title=\"Radio Hà Nội FM96\"><img alt=\"Radio Hà Nội FM96\" class=\"cover\" height=\"66\" src=\"https://cdn.webrad.io/images/logos/radioonline-vn/ha-noi.png\" width=\"96\"/></a></span></li>\n",
            "<li class=\"item-21\"><span><a href=\"https://radioonline.vn/#joy\" title=\"Radio Hà Nội JoyFM\"><img alt=\"Radio Hà Nội JoyFM\" class=\"cover\" height=\"66\" src=\"https://cdn.webrad.io/images/logos/radioonline-vn/joy.png\" width=\"96\"/></a></span></li>\n",
            "<li class=\"item-22\"><span><a href=\"https://radioonline.vn/#fm90\" title=\"Radio FM90\"><img alt=\"Radio FM90\" class=\"cover\" height=\"66\" src=\"https://cdn.webrad.io/images/logos/radioonline-vn/fm90.png\" width=\"96\"/></a></span></li>\n",
            "<li class=\"item-23\"><span><a href=\"https://radioonline.vn/#hai-duong\" title=\"Radio Hải Dương\"><img alt=\"Radio Hải Dương\" class=\"cover\" height=\"66\" src=\"https://cdn.webrad.io/images/logos/radioonline-vn/hai-duong.png\" width=\"96\"/></a></span></li>\n",
            "<li class=\"item-24\"><span><a href=\"https://radioonline.vn/#khanh-hoa\" title=\"Radio Khánh Hoà\"><img alt=\"Radio Khánh Hoà\" class=\"cover\" height=\"66\" src=\"https://cdn.webrad.io/images/logos/radioonline-vn/khanh-hoa.png\" width=\"96\"/></a></span></li>\n",
            "<li class=\"item-25\"><span><a href=\"https://radioonline.vn/#kien-giang\" title=\"Radio Kiên Giang\"><img alt=\"Radio Kiên Giang\" class=\"cover\" height=\"66\" src=\"https://cdn.webrad.io/images/logos/radioonline-vn/kien-giang.png\" width=\"96\"/></a></span></li>\n",
            "<li class=\"item-26\"><span><a href=\"https://radioonline.vn/#ninh-binh\" title=\"Radio Ninh Bình\"><img alt=\"Radio Ninh Bình\" class=\"cover\" height=\"66\" src=\"https://cdn.webrad.io/images/logos/radioonline-vn/ninh-binh.png\" width=\"96\"/></a></span></li>\n",
            "<li class=\"item-27\"><span><a href=\"https://radioonline.vn/#soc-trang\" title=\"Radio Sóc Trăng\"><img alt=\"Radio Sóc Trăng\" class=\"cover\" height=\"66\" src=\"https://cdn.webrad.io/images/logos/radioonline-vn/soc-trang.png\" width=\"96\"/></a></span></li>\n",
            "<li class=\"item-28\"><span><a href=\"https://radioonline.vn/#thua-thien-hue\" title=\"Radio Thừa Thiên Huế\"><img alt=\"Radio Thừa Thiên Huế\" class=\"cover\" height=\"66\" src=\"https://cdn.webrad.io/images/logos/radioonline-vn/thua-thien-hue.png\" width=\"96\"/></a></span></li>\n",
            "<li class=\"item-29\"><span><a href=\"https://radioonline.vn/#bac-giang\" title=\"Radio Bắc Giang\"><img alt=\"Radio Bắc Giang\" class=\"cover\" height=\"66\" src=\"https://cdn.webrad.io/images/logos/radioonline-vn/bac-giang.png\" width=\"96\"/></a></span></li>\n",
            "<li class=\"item-30\"><span><a href=\"https://radioonline.vn/#ha-tinh\" title=\"Radio Hà Tĩnh\"><img alt=\"Radio Hà Tĩnh\" class=\"cover\" height=\"66\" src=\"https://cdn.webrad.io/images/logos/radioonline-vn/ha-tinh.png\" width=\"96\"/></a></span></li>\n",
            "<li class=\"item-31\"><span><a href=\"https://radioonline.vn/#phu-yen\" title=\"Radio Phú Yên\"><img alt=\"Radio Phú Yên\" class=\"cover\" height=\"66\" src=\"https://cdn.webrad.io/images/logos/radioonline-vn/phu-yen.png\" width=\"96\"/></a></span></li>\n",
            "<li class=\"item-32\"><span><a href=\"https://radioonline.vn/#qnr1\" title=\"Radio Quảng Ninh QNR1\"><img alt=\"Radio Quảng Ninh QNR1\" class=\"cover\" height=\"66\" src=\"https://cdn.webrad.io/images/logos/radioonline-vn/qnr1.png\" width=\"96\"/></a></span></li>\n",
            "<li class=\"item-33\"><span><a href=\"https://radioonline.vn/#qnr2\" title=\"Radio Quảng Ninh QNR2\"><img alt=\"Radio Quảng Ninh QNR2\" class=\"cover\" height=\"66\" src=\"https://cdn.webrad.io/images/logos/radioonline-vn/qnr2.png\" width=\"96\"/></a></span></li>\n",
            "<li class=\"item-34\"><span><a href=\"https://radioonline.vn/#tien-giang\" title=\"Radio Tiền Giang 96.2 FM\"><img alt=\"Radio Tiền Giang 96.2 FM\" class=\"cover\" height=\"66\" src=\"https://cdn.webrad.io/images/logos/radioonline-vn/tien-giang.png\" width=\"96\"/></a></span></li>\n",
            "<li class=\"item-35 hidden\"><span><img alt=\"\" class=\"img\" height=\"66\" src=\"https://cdn.webrad.io/images/radio.png\" width=\"96\"/></span></li>\n",
            "<li class=\"item-36 hidden\"><span><img alt=\"\" class=\"img\" height=\"66\" src=\"https://cdn.webrad.io/images/radio.png\" width=\"96\"/></span></li>\n",
            "<li class=\"item-37 hidden\"><span><img alt=\"\" class=\"img\" height=\"66\" src=\"https://cdn.webrad.io/images/radio.png\" width=\"96\"/></span></li>\n",
            "<li class=\"item-38 hidden\"><span><img alt=\"\" class=\"img\" height=\"66\" src=\"https://cdn.webrad.io/images/radio.png\" width=\"96\"/></span></li>\n",
            "<li class=\"item-39 hidden\"><span><img alt=\"\" class=\"img\" height=\"66\" src=\"https://cdn.webrad.io/images/radio.png\" width=\"96\"/></span></li>\n",
            "<li class=\"item-40 hidden\"><span><img alt=\"\" class=\"img\" height=\"66\" src=\"https://cdn.webrad.io/images/radio.png\" width=\"96\"/></span></li>\n",
            "<li class=\"item-41 hidden\"><span><img alt=\"\" class=\"img\" height=\"66\" src=\"https://cdn.webrad.io/images/radio.png\" width=\"96\"/></span></li>\n",
            "<li class=\"item-42 hidden\"><span><img alt=\"\" class=\"img\" height=\"66\" src=\"https://cdn.webrad.io/images/radio.png\" width=\"96\"/></span></li>\n",
            "<li class=\"item-43 hidden\"><span><img alt=\"\" class=\"img\" height=\"66\" src=\"https://cdn.webrad.io/images/radio.png\" width=\"96\"/></span></li>\n",
            "<li class=\"item-44 hidden\"><span><img alt=\"\" class=\"img\" height=\"66\" src=\"https://cdn.webrad.io/images/radio.png\" width=\"96\"/></span></li>\n",
            "<li class=\"item-45 hidden\"><span><img alt=\"\" class=\"img\" height=\"66\" src=\"https://cdn.webrad.io/images/radio.png\" width=\"96\"/></span></li>\n",
            "<li class=\"item-46 hidden\"><span><img alt=\"\" class=\"img\" height=\"66\" src=\"https://cdn.webrad.io/images/radio.png\" width=\"96\"/></span></li>\n",
            "<li class=\"item-47 hidden\"><span><img alt=\"\" class=\"img\" height=\"66\" src=\"https://cdn.webrad.io/images/radio.png\" width=\"96\"/></span></li>\n",
            "<li class=\"item-48 hidden\"><span><img alt=\"\" class=\"img\" height=\"66\" src=\"https://cdn.webrad.io/images/radio.png\" width=\"96\"/></span></li>\n"
          ],
          "name": "stdout"
        }
      ]
    },
    {
      "cell_type": "code",
      "metadata": {
        "id": "XeSgHvfe3rYq",
        "colab_type": "code",
        "outputId": "38e7e91c-7e6a-47af-907d-8af474076a02",
        "colab": {
          "base_uri": "https://localhost:8080/",
          "height": 595
        }
      },
      "source": [
        "links=ul1.find_all('a')\n",
        "for link in links:\n",
        "    url=link.get('href')\n",
        "    arr=url.split(\"#\")\n",
        "    apiurl='https://api.webrad.io/data/streams/80/'+arr[1]\n",
        "    print(apiurl)\n",
        "    "
      ],
      "execution_count": 12,
      "outputs": [
        {
          "output_type": "stream",
          "text": [
            "https://api.webrad.io/data/streams/80/vov1\n",
            "https://api.webrad.io/data/streams/80/vov2\n",
            "https://api.webrad.io/data/streams/80/vov3\n",
            "https://api.webrad.io/data/streams/80/vov-4\n",
            "https://api.webrad.io/data/streams/80/vov5\n",
            "https://api.webrad.io/data/streams/80/vov-gt\n",
            "https://api.webrad.io/data/streams/80/vov-giao-thong\n",
            "https://api.webrad.io/data/streams/80/voh-fm\n",
            "https://api.webrad.io/data/streams/80/voh-fm-95-6\n",
            "https://api.webrad.io/data/streams/80/voh\n",
            "https://api.webrad.io/data/streams/80/vietnam-hai-ngoai\n",
            "https://api.webrad.io/data/streams/80/nhk-vietnam\n",
            "https://api.webrad.io/data/streams/80/tieng-nuroc\n",
            "https://api.webrad.io/data/streams/80/ba-ria-vung-tau\n",
            "https://api.webrad.io/data/streams/80/binh-phuoc\n",
            "https://api.webrad.io/data/streams/80/binh-thuan\n",
            "https://api.webrad.io/data/streams/80/ca-mau\n",
            "https://api.webrad.io/data/streams/80/can-tho\n",
            "https://api.webrad.io/data/streams/80/da-nang\n",
            "https://api.webrad.io/data/streams/80/ha-noi\n",
            "https://api.webrad.io/data/streams/80/joy\n",
            "https://api.webrad.io/data/streams/80/fm90\n",
            "https://api.webrad.io/data/streams/80/hai-duong\n",
            "https://api.webrad.io/data/streams/80/khanh-hoa\n",
            "https://api.webrad.io/data/streams/80/kien-giang\n",
            "https://api.webrad.io/data/streams/80/ninh-binh\n",
            "https://api.webrad.io/data/streams/80/soc-trang\n",
            "https://api.webrad.io/data/streams/80/thua-thien-hue\n",
            "https://api.webrad.io/data/streams/80/bac-giang\n",
            "https://api.webrad.io/data/streams/80/ha-tinh\n",
            "https://api.webrad.io/data/streams/80/phu-yen\n",
            "https://api.webrad.io/data/streams/80/qnr1\n",
            "https://api.webrad.io/data/streams/80/qnr2\n",
            "https://api.webrad.io/data/streams/80/tien-giang\n"
          ],
          "name": "stdout"
        }
      ]
    },
    {
      "cell_type": "code",
      "metadata": {
        "id": "Pe1FMdpf3HJA",
        "colab_type": "code",
        "colab": {}
      },
      "source": [
        ""
      ],
      "execution_count": 0,
      "outputs": []
    }
  ]
}